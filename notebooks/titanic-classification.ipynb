{
 "cells": [
  {
   "cell_type": "markdown",
   "metadata": {},
   "source": [
    "## Library imports"
   ]
  },
  {
   "cell_type": "code",
   "execution_count": 1,
   "metadata": {},
   "outputs": [],
   "source": [
    "import os\n",
    "import numpy as np # linear algebra\n",
    "import pandas as pd # data processing, CSV file I/O (e.g. pd.read_csv)\n",
    "import seaborn as sns # visualization\n",
    "import matplotlib.pyplot as plt # visualization"
   ]
  },
  {
   "cell_type": "markdown",
   "metadata": {
    "editable": true,
    "slideshow": {
     "slide_type": ""
    },
    "tags": []
   },
   "source": [
    "## Setup data directories"
   ]
  },
  {
   "cell_type": "code",
   "execution_count": 2,
   "metadata": {},
   "outputs": [],
   "source": [
    "# if you are running a kaggle notebook\n",
    "DATA_DIR = \"/kaggle/input\"\n",
    "OUTPUT_DIR = \"/kaggle/output\""
   ]
  },
  {
   "cell_type": "code",
   "execution_count": 3,
   "metadata": {},
   "outputs": [],
   "source": [
    "# if you are running it on local machine\n",
    "# download input files\n",
    "# create directory kaggle/input\n",
    "os.makedirs(\"input/titanic\", exist_ok=True)\n",
    "os.makedirs(\"output/titanic\", exist_ok=True)\n",
    "# # download files from kaggle\n",
    "# !kaggle competitions download --force -c titanic -p input\n",
    "# !unzip -d input/titanic kaggle/input/titanic.zip\n",
    "DATA_DIR = \"input/titanic\"\n",
    "OUTPUT_DIR = \"output/titanic\""
   ]
  },
  {
   "cell_type": "code",
   "execution_count": 4,
   "metadata": {
    "_cell_guid": "b1076dfc-b9ad-4769-8c92-a6c4dae69d19",
    "_uuid": "8f2839f25d086af736a60e9eeb907d3b93b6e0e5"
   },
   "outputs": [
    {
     "name": "stdout",
     "output_type": "stream",
     "text": [
      "input/titanic/test.csv\n",
      "input/titanic/gender_submission.csv\n",
      "input/titanic/train.csv\n"
     ]
    }
   ],
   "source": [
    "# if you are running it on kaggle\n",
    "\n",
    "# Input data files are available in the read-only \"../input/\" directory\n",
    "# For example, running this (by clicking run or pressing Shift+Enter) will list all files under the input directory\n",
    "\n",
    "import os\n",
    "for dirname, _, filenames in os.walk(DATA_DIR):\n",
    "    for filename in filenames:\n",
    "        print(os.path.join(dirname, filename))\n",
    "\n",
    "# You can write up to 20GB to the current directory (/kaggle/working/) that gets preserved as output when you create a version using \"Save & Run All\" \n",
    "# You can also write temporary files to /kaggle/temp/, but they won't be saved outside of the current session"
   ]
  },
  {
   "cell_type": "code",
   "execution_count": 5,
   "metadata": {},
   "outputs": [],
   "source": [
    "\n",
    "train_df = pd.read_csv(f\"{DATA_DIR}/train.csv\")\n",
    "test_df = pd.read_csv(f\"{DATA_DIR}/test.csv\")"
   ]
  },
  {
   "cell_type": "markdown",
   "metadata": {},
   "source": [
    "## Handle missing data"
   ]
  },
  {
   "cell_type": "code",
   "execution_count": 6,
   "metadata": {},
   "outputs": [
    {
     "data": {
      "text/plain": [
       "PassengerId      0\n",
       "Survived         0\n",
       "Pclass           0\n",
       "Name             0\n",
       "Sex              0\n",
       "Age            177\n",
       "SibSp            0\n",
       "Parch            0\n",
       "Ticket           0\n",
       "Fare             0\n",
       "Cabin          687\n",
       "Embarked         2\n",
       "dtype: int64"
      ]
     },
     "execution_count": 6,
     "metadata": {},
     "output_type": "execute_result"
    }
   ],
   "source": [
    "train_df.isnull().sum()"
   ]
  },
  {
   "cell_type": "markdown",
   "metadata": {},
   "source": [
    "As we can see there are three fields with missing values. We will care aout fillig missing `Age` and `Embarked` data while drop `Cabin` Data."
   ]
  },
  {
   "cell_type": "markdown",
   "metadata": {},
   "source": [
    "### Fill missing age values"
   ]
  },
  {
   "cell_type": "code",
   "execution_count": 7,
   "metadata": {
    "ExecuteTime": {
     "end_time": "2024-02-11T06:25:39.498972205Z",
     "start_time": "2024-02-11T06:25:39.480859189Z"
    }
   },
   "outputs": [
    {
     "name": "stdout",
     "output_type": "stream",
     "text": [
      "len(train_df['Age']):891\n",
      "train_df['Age'].median:28.0\n",
      "train_df['Age'].mean:29.69911764705882\n"
     ]
    },
    {
     "data": {
      "image/png": "[encoded data removed]",
      "text/plain": [
       "<Figure size 640x480 with 4 Axes>"
      ]
     },
     "metadata": {},
     "output_type": "display_data"
    }
   ],
   "source": [
    "print(f\"len(train_df['Age']):{len(train_df['Age'])}\")\n",
    "print(f\"train_df['Age'].median:{train_df['Age'].median(skipna=True)}\")\n",
    "print(f\"train_df['Age'].mean:{train_df['Age'].mean(skipna=True)}\")\n",
    "# train_df['Age'].describe()\n",
    "# ax = titanic_df[\"Age\"].hist(bins=15, color='teal', alpha=0.8)\n",
    "# ax.set(xlabel='Age', ylabel='Count')\n",
    "plt.subplot(1,4,1)\n",
    "ax1 = train_df[train_df[\"Pclass\"]==1][\"Age\"].hist()\n",
    "ax1.set(xlabel='Age', ylabel='Count')\n",
    "plt.subplot(1,4,2)\n",
    "ax2=train_df[train_df[\"Pclass\"]==2][\"Age\"].hist()\n",
    "ax2.set(xlabel='Age', ylabel='Count')\n",
    "plt.subplot(1,4,3)\n",
    "ax3=train_df[train_df[\"Pclass\"]==3][\"Age\"].hist()\n",
    "ax3.set(xlabel='Age', ylabel='Count')\n",
    "plt.subplot(1,4,4)\n",
    "ax4 = train_df[\"Age\"].hist()\n",
    "ax4.set(xlabel='Age', ylabel='Count')\n",
    "plt.show()"
   ]
  },
  {
   "cell_type": "markdown",
   "metadata": {},
   "source": [
    "As we can see the age distibution is right skewed we prefer median insstead of mean"
   ]
  },
  {
   "cell_type": "code",
   "execution_count": 8,
   "metadata": {},
   "outputs": [
    {
     "name": "stdout",
     "output_type": "stream",
     "text": [
      "class_mean_age_map: {1: 38.233440860215055, 2: 29.87763005780347, 3: 25.14061971830986}\n",
      "class_median_age_map: {1: 37.0, 2: 29.0, 3: 24.0}\n"
     ]
    }
   ],
   "source": [
    "class_mean_age_map= train_df.groupby(\"Pclass\")[\"Age\"].aggregate(\"mean\").to_dict()\n",
    "class_median_age_map = train_df.groupby(\"Pclass\")[\"Age\"].aggregate(\"median\").to_dict()\n",
    "print(f\"class_mean_age_map: {class_mean_age_map}\")\n",
    "print(f\"class_median_age_map: {class_median_age_map}\")"
   ]
  },
  {
   "cell_type": "code",
   "execution_count": 9,
   "metadata": {},
   "outputs": [],
   "source": [
    "# populate missing ages by median age of class in both train and test_df\n",
    "train_df[\"Age\"] = train_df[\"Age\"].fillna(train_df[\"Pclass\"].map(class_median_age_map))\n",
    "test_df[\"Age\"] = test_df[\"Age\"].fillna(test_df[\"Pclass\"].map(class_median_age_map))\n"
   ]
  },
  {
   "cell_type": "markdown",
   "metadata": {},
   "source": [
    "### Populate missing `Embarked`"
   ]
  },
  {
   "cell_type": "code",
   "execution_count": 10,
   "metadata": {},
   "outputs": [
    {
     "data": {
      "image/png": "[encoded data removed]",
      "text/plain": [
       "<Figure size 640x480 with 1 Axes>"
      ]
     },
     "metadata": {},
     "output_type": "display_data"
    }
   ],
   "source": [
    "sns.countplot(x='Embarked',data=train_df, legend=False)\n",
    "plt.show()"
   ]
  },
  {
   "cell_type": "markdown",
   "metadata": {},
   "source": [
    "As we can see most of the people embarked from `S` we can fill missing values by `S`"
   ]
  },
  {
   "cell_type": "code",
   "execution_count": 11,
   "metadata": {},
   "outputs": [],
   "source": [
    "train_df.fillna({\"Embarked\":\"S\"}, inplace=True)\n",
    "test_df.fillna({\"Embarked\":\"S\"}, inplace=True)"
   ]
  },
  {
   "cell_type": "markdown",
   "metadata": {},
   "source": [
    "### Drop Cabin values"
   ]
  },
  {
   "cell_type": "code",
   "execution_count": 12,
   "metadata": {},
   "outputs": [],
   "source": [
    "train_df.drop('Cabin', axis=1, inplace=True)\n",
    "test_df.drop('Cabin', axis=1, inplace=True)"
   ]
  },
  {
   "cell_type": "code",
   "execution_count": 13,
   "metadata": {},
   "outputs": [
    {
     "data": {
      "text/plain": [
       "PassengerId    0\n",
       "Survived       0\n",
       "Pclass         0\n",
       "Name           0\n",
       "Sex            0\n",
       "Age            0\n",
       "SibSp          0\n",
       "Parch          0\n",
       "Ticket         0\n",
       "Fare           0\n",
       "Embarked       0\n",
       "dtype: int64"
      ]
     },
     "execution_count": 13,
     "metadata": {},
     "output_type": "execute_result"
    }
   ],
   "source": [
    "# Recheck for null values\n",
    "train_df.isna().sum()"
   ]
  },
  {
   "cell_type": "markdown",
   "metadata": {},
   "source": [
    "### References\n",
    "1. [DataFrame.isna](https://pandas.pydata.org/pandas-docs/stable/reference/api/pandas.DataFrame.isna.html)\n",
    "2. [DataFrame.hist](https://pandas.pydata.org/pandas-docs/stable/reference/api/pandas.DataFrame.hist.html)\n",
    "3. [seaborn.countplot](https://seaborn.pydata.org/generated/seaborn.countplot.html)"
   ]
  },
  {
   "cell_type": "markdown",
   "metadata": {},
   "source": [
    "# Feature Engineering"
   ]
  },
  {
   "cell_type": "markdown",
   "metadata": {},
   "source": [
    "### Age vs survival"
   ]
  },
  {
   "cell_type": "code",
   "execution_count": 14,
   "metadata": {},
   "outputs": [
    {
     "data": {
      "image/png": "[encoded data removed]",
      "text/plain": [
       "<Figure size 1000x500 with 1 Axes>"
      ]
     },
     "metadata": {},
     "output_type": "display_data"
    }
   ],
   "source": [
    "# plot kde for age vs survival\n",
    "plt.figure(figsize=(10,5))\n",
    "sns.kdeplot(train_df[\"Age\"][train_df.Survived == 1], color=\"darkturquoise\", fill=True)\n",
    "sns.kdeplot(train_df[\"Age\"][train_df.Survived == 0], color=\"lightcoral\", fill=True)\n",
    "plt.legend(['Survived', 'Died'])\n",
    "plt.show()"
   ]
  },
  {
   "cell_type": "markdown",
   "metadata": {},
   "source": [
    "## Co-travellers vs survival"
   ]
  },
  {
   "cell_type": "code",
   "execution_count": 15,
   "metadata": {},
   "outputs": [
    {
     "name": "stdout",
     "output_type": "stream",
     "text": [
      "relatives  Survived\n",
      "0          0           0.696462\n",
      "           1           0.303538\n",
      "1          1           0.552795\n",
      "           0           0.447205\n",
      "2          1           0.578431\n",
      "           0           0.421569\n",
      "3          1           0.724138\n",
      "           0           0.275862\n",
      "4          0           0.800000\n",
      "           1           0.200000\n",
      "5          0           0.863636\n",
      "           1           0.136364\n",
      "6          0           0.666667\n",
      "           1           0.333333\n",
      "7          0           1.000000\n",
      "10         0           1.000000\n",
      "Name: proportion, dtype: float64\n"
     ]
    },
    {
     "data": {
      "image/png": "[encoded data removed]",
      "text/plain": [
       "<Figure size 640x480 with 1 Axes>"
      ]
     },
     "metadata": {},
     "output_type": "display_data"
    }
   ],
   "source": [
    "train_df[\"SibSp\"].value_counts()\n",
    "train_df[\"Parch\"].value_counts()\n",
    "train_df[\"relatives\"] = train_df[\"SibSp\"] + train_df[\"Parch\"]\n",
    "print(train_df[[\"relatives\", \"Survived\"]].groupby(\"relatives\").value_counts(normalize=True)) #\n",
    "\n",
    "sns.barplot(x='relatives', y='Survived', data=train_df, color=\"darkturquoise\")\n",
    "plt.show()"
   ]
  },
  {
   "cell_type": "markdown",
   "metadata": {},
   "source": [
    "## Pclass vs survival"
   ]
  },
  {
   "cell_type": "code",
   "execution_count": 16,
   "metadata": {},
   "outputs": [
    {
     "data": {
      "image/png": "[encoded data removed]",
      "text/plain": [
       "<Figure size 640x480 with 1 Axes>"
      ]
     },
     "metadata": {},
     "output_type": "display_data"
    }
   ],
   "source": [
    "sns.barplot(x='Pclass', y='Survived', data=train_df, color=\"darkturquoise\")\n",
    "plt.show()"
   ]
  },
  {
   "cell_type": "code",
   "execution_count": 17,
   "metadata": {},
   "outputs": [
    {
     "data": {
      "image/png": "[encoded data removed]",
      "text/plain": [
       "<Figure size 1000x500 with 1 Axes>"
      ]
     },
     "metadata": {},
     "output_type": "display_data"
    }
   ],
   "source": [
    "plt.figure(figsize=(10,5))\n",
    "sns.kdeplot(train_df[\"Fare\"][train_df.Survived == 1], color=\"darkturquoise\", fill=True)\n",
    "sns.kdeplot(train_df[\"Fare\"][train_df.Survived == 0], color=\"lightcoral\", fill=True)\n",
    "plt.legend(['Survived', 'Died'])\n",
    "plt.show()"
   ]
  },
  {
   "cell_type": "markdown",
   "metadata": {},
   "source": [
    "## gender vs survival"
   ]
  },
  {
   "cell_type": "code",
   "execution_count": 18,
   "metadata": {},
   "outputs": [
    {
     "name": "stdout",
     "output_type": "stream",
     "text": [
      "Sex     Survived\n",
      "female  1           0.742038\n",
      "        0           0.257962\n",
      "male    0           0.811092\n",
      "        1           0.188908\n",
      "Name: proportion, dtype: float64\n"
     ]
    },
    {
     "data": {
      "image/png": "[encoded data removed]",
      "text/plain": [
       "<Figure size 640x480 with 1 Axes>"
      ]
     },
     "metadata": {},
     "output_type": "display_data"
    }
   ],
   "source": [
    "print(train_df[[\"Sex\", \"Survived\"]].groupby(\"Sex\").value_counts(normalize=True)) #\n",
    "sns.barplot(x='Sex', y='Survived', data=train_df, color=\"darkturquoise\")\n",
    "plt.show()"
   ]
  },
  {
   "cell_type": "code",
   "execution_count": 19,
   "metadata": {},
   "outputs": [
    {
     "name": "stdout",
     "output_type": "stream",
     "text": [
      "Embarked  Survived\n",
      "C         1            93\n",
      "          0            75\n",
      "Q         0            47\n",
      "          1            30\n",
      "S         0           427\n",
      "          1           219\n",
      "Name: count, dtype: int64\n"
     ]
    },
    {
     "data": {
      "image/png": "[encoded data removed]",
      "text/plain": [
       "<Figure size 640x480 with 1 Axes>"
      ]
     },
     "metadata": {},
     "output_type": "display_data"
    }
   ],
   "source": [
    "# Embarked vs survival\n",
    "print(train_df[[\"Embarked\", \"Survived\"]].groupby(\"Embarked\").value_counts()) #\n",
    "sns.barplot(x='Embarked', y='Survived', data=train_df, color=\"darkturquoise\")\n",
    "plt.show()"
   ]
  },
  {
   "cell_type": "markdown",
   "metadata": {},
   "source": [
    "## Observations\n",
    "1. Age as an absolute number doesn\"t seem to have a direct correlation with surivival. However `Survived` outnumber the \"Died\" from 0-16. This suggest there might be concious attempt to save children. We use this observation to make a more useful feature `isMinor`.\n",
    "2. We observe Surivived/Deceased ratio of people travelling alone is 7:3. So we can create another feture `isTravellingAlone`\n",
    "3. Pclass 1 has higher survival ratio which is also correlated to fare paid. People who paid higher `Fare` were more likely to survive.\n",
    "4. Female/Male survival ratio(.74 vs .18) suggests that females were more likey to be offered rescue oppurtunities. "
   ]
  },
  {
   "cell_type": "markdown",
   "metadata": {},
   "source": [
    "## Feature modifications\n"
   ]
  },
  {
   "cell_type": "code",
   "execution_count": 20,
   "metadata": {},
   "outputs": [
    {
     "data": {
      "text/html": [
       "<div>\n",
       "<style scoped>\n",
       "    .dataframe tbody tr th:only-of-type {\n",
       "        vertical-align: middle;\n",
       "    }\n",
       "\n",
       "    .dataframe tbody tr th {\n",
       "        vertical-align: top;\n",
       "    }\n",
       "\n",
       "    .dataframe thead th {\n",
       "        text-align: right;\n",
       "    }\n",
       "</style>\n",
       "<table border=\"1\" class=\"dataframe\">\n",
       "  <thead>\n",
       "    <tr style=\"text-align: right;\">\n",
       "      <th></th>\n",
       "      <th>PassengerId</th>\n",
       "      <th>Survived</th>\n",
       "      <th>Pclass</th>\n",
       "      <th>Fare</th>\n",
       "      <th>Embarked</th>\n",
       "      <th>isMinor</th>\n",
       "      <th>isTravellingAlone</th>\n",
       "      <th>isFemale</th>\n",
       "    </tr>\n",
       "  </thead>\n",
       "  <tbody>\n",
       "    <tr>\n",
       "      <th>0</th>\n",
       "      <td>1</td>\n",
       "      <td>0</td>\n",
       "      <td>3</td>\n",
       "      <td>7.2500</td>\n",
       "      <td>S</td>\n",
       "      <td>0</td>\n",
       "      <td>0</td>\n",
       "      <td>0</td>\n",
       "    </tr>\n",
       "    <tr>\n",
       "      <th>1</th>\n",
       "      <td>2</td>\n",
       "      <td>1</td>\n",
       "      <td>1</td>\n",
       "      <td>71.2833</td>\n",
       "      <td>C</td>\n",
       "      <td>0</td>\n",
       "      <td>0</td>\n",
       "      <td>1</td>\n",
       "    </tr>\n",
       "  </tbody>\n",
       "</table>\n",
       "</div>"
      ],
      "text/plain": [
       "   PassengerId  Survived  Pclass     Fare Embarked  isMinor  \\\n",
       "0            1         0       3   7.2500        S        0   \n",
       "1            2         1       1  71.2833        C        0   \n",
       "\n",
       "   isTravellingAlone  isFemale  \n",
       "0                  0         0  \n",
       "1                  0         1  "
      ]
     },
     "execution_count": 20,
     "metadata": {},
     "output_type": "execute_result"
    }
   ],
   "source": [
    "def modify_df(df):\n",
    "    # add field isMinor\n",
    "    df[\"isMinor\"] = df[\"Age\"].apply(lambda x: 1 if x<16 else 0)\n",
    "    df[\"relatives\"] = df[\"SibSp\"] + df[\"Parch\"]\n",
    "    # add field isTravellingAlone\n",
    "    df[\"isTravellingAlone\"] = df[\"relatives\"].apply(lambda x: 1 if x<=0 else 0)\n",
    "    # merge Sex column as isFemale\n",
    "    df[\"isFemale\"] = df[\"Sex\"].apply(lambda x: 1 if x==\"female\" else 0)\n",
    "    # drop columns age, relatives, SibSp, Parch\n",
    "    df.drop(['Name', 'Ticket', 'Age', 'Sex', 'SibSp', 'Parch','Ticket','relatives'], axis=1, inplace=True)\n",
    "    return df\n",
    "train_df = modify_df(train_df)\n",
    "test_df = modify_df(test_df)\n",
    "# train_df[\"isMinor\"].value_counts()\n",
    "# pd.get_dummies(train_df)\n",
    "train_df.head(2)"
   ]
  },
  {
   "cell_type": "markdown",
   "metadata": {},
   "source": [
    "## Classification using Decision tree\n"
   ]
  },
  {
   "cell_type": "markdown",
   "metadata": {},
   "source": [
    "### Visualization"
   ]
  },
  {
   "cell_type": "code",
   "execution_count": 21,
   "metadata": {
    "editable": true,
    "slideshow": {
     "slide_type": ""
    },
    "tags": []
   },
   "outputs": [
    {
     "data": {
      "image/svg+xml": [
       "<?xml version=\"1.0\" encoding=\"UTF-8\" standalone=\"no\"?>\n",
       "<!DOCTYPE svg PUBLIC \"-//W3C//DTD SVG 1.1//EN\"\n",
       " \"http://www.w3.org/Graphics/SVG/1.1/DTD/svg11.dtd\">\n",
       "<!-- Generated by graphviz version 2.43.0 (0)\n",
       " -->\n",
       "<!-- Title: Tree Pages: 1 -->\n",
       "<svg width=\"1175pt\" height=\"433pt\"\n",
       " viewBox=\"0.00 0.00 1175.00 433.00\" xmlns=\"http://www.w3.org/2000/svg\" xmlns:xlink=\"http://www.w3.org/1999/xlink\">\n",
       "<g id=\"graph0\" class=\"graph\" transform=\"scale(1 1) rotate(0) translate(4 429)\">\n",
       "<title>Tree</title>\n",
       "<polygon fill=\"white\" stroke=\"transparent\" points=\"-4,4 -4,-429 1171,-429 1171,4 -4,4\"/>\n",
       "<!-- 0 -->\n",
       "<g id=\"node1\" class=\"node\">\n",
       "<title>0</title>\n",
       "<path fill=\"#f5cfb4\" stroke=\"black\" d=\"M649.5,-425C649.5,-425 524.5,-425 524.5,-425 518.5,-425 512.5,-419 512.5,-413 512.5,-413 512.5,-354 512.5,-354 512.5,-348 518.5,-342 524.5,-342 524.5,-342 649.5,-342 649.5,-342 655.5,-342 661.5,-348 661.5,-354 661.5,-354 661.5,-413 661.5,-413 661.5,-419 655.5,-425 649.5,-425\"/>\n",
       "<text text-anchor=\"middle\" x=\"587\" y=\"-409.8\" font-family=\"Helvetica,sans-Serif\" font-size=\"14.00\">isFemale &lt;= 0.5</text>\n",
       "<text text-anchor=\"middle\" x=\"587\" y=\"-394.8\" font-family=\"Helvetica,sans-Serif\" font-size=\"14.00\">gini = 0.473</text>\n",
       "<text text-anchor=\"middle\" x=\"587\" y=\"-379.8\" font-family=\"Helvetica,sans-Serif\" font-size=\"14.00\">samples = 891</text>\n",
       "<text text-anchor=\"middle\" x=\"587\" y=\"-364.8\" font-family=\"Helvetica,sans-Serif\" font-size=\"14.00\">value = [549, 342]</text>\n",
       "<text text-anchor=\"middle\" x=\"587\" y=\"-349.8\" font-family=\"Helvetica,sans-Serif\" font-size=\"14.00\">class = 0</text>\n",
       "</g>\n",
       "<!-- 1 -->\n",
       "<g id=\"node2\" class=\"node\">\n",
       "<title>1</title>\n",
       "<path fill=\"#eb9e67\" stroke=\"black\" d=\"M507.5,-306C507.5,-306 382.5,-306 382.5,-306 376.5,-306 370.5,-300 370.5,-294 370.5,-294 370.5,-235 370.5,-235 370.5,-229 376.5,-223 382.5,-223 382.5,-223 507.5,-223 507.5,-223 513.5,-223 519.5,-229 519.5,-235 519.5,-235 519.5,-294 519.5,-294 519.5,-300 513.5,-306 507.5,-306\"/>\n",
       "<text text-anchor=\"middle\" x=\"445\" y=\"-290.8\" font-family=\"Helvetica,sans-Serif\" font-size=\"14.00\">Fare &lt;= 26.269</text>\n",
       "<text text-anchor=\"middle\" x=\"445\" y=\"-275.8\" font-family=\"Helvetica,sans-Serif\" font-size=\"14.00\">gini = 0.306</text>\n",
       "<text text-anchor=\"middle\" x=\"445\" y=\"-260.8\" font-family=\"Helvetica,sans-Serif\" font-size=\"14.00\">samples = 577</text>\n",
       "<text text-anchor=\"middle\" x=\"445\" y=\"-245.8\" font-family=\"Helvetica,sans-Serif\" font-size=\"14.00\">value = [468, 109]</text>\n",
       "<text text-anchor=\"middle\" x=\"445\" y=\"-230.8\" font-family=\"Helvetica,sans-Serif\" font-size=\"14.00\">class = 0</text>\n",
       "</g>\n",
       "<!-- 0&#45;&gt;1 -->\n",
       "<g id=\"edge1\" class=\"edge\">\n",
       "<title>0&#45;&gt;1</title>\n",
       "<path fill=\"none\" stroke=\"black\" d=\"M537.73,-341.91C526.28,-332.47 513.99,-322.34 502.22,-312.65\"/>\n",
       "<polygon fill=\"black\" stroke=\"black\" points=\"504.12,-309.68 494.18,-306.02 499.67,-315.08 504.12,-309.68\"/>\n",
       "<text text-anchor=\"middle\" x=\"496.58\" y=\"-327.21\" font-family=\"Helvetica,sans-Serif\" font-size=\"14.00\">True</text>\n",
       "</g>\n",
       "<!-- 8 -->\n",
       "<g id=\"node9\" class=\"node\">\n",
       "<title>8</title>\n",
       "<path fill=\"#7ebfee\" stroke=\"black\" d=\"M815.5,-306C815.5,-306 672.5,-306 672.5,-306 666.5,-306 660.5,-300 660.5,-294 660.5,-294 660.5,-235 660.5,-235 660.5,-229 666.5,-223 672.5,-223 672.5,-223 815.5,-223 815.5,-223 821.5,-223 827.5,-229 827.5,-235 827.5,-235 827.5,-294 827.5,-294 827.5,-300 821.5,-306 815.5,-306\"/>\n",
       "<text text-anchor=\"middle\" x=\"744\" y=\"-290.8\" font-family=\"Helvetica,sans-Serif\" font-size=\"14.00\">Pclass &lt;= 2.5</text>\n",
       "<text text-anchor=\"middle\" x=\"744\" y=\"-275.8\" font-family=\"Helvetica,sans-Serif\" font-size=\"14.00\">gini = 0.383</text>\n",
       "<text text-anchor=\"middle\" x=\"744\" y=\"-260.8\" font-family=\"Helvetica,sans-Serif\" font-size=\"14.00\">samples = 314</text>\n",
       "<text text-anchor=\"middle\" x=\"744\" y=\"-245.8\" font-family=\"Helvetica,sans-Serif\" font-size=\"14.00\">value = [81.0, 233.0]</text>\n",
       "<text text-anchor=\"middle\" x=\"744\" y=\"-230.8\" font-family=\"Helvetica,sans-Serif\" font-size=\"14.00\">class = 1</text>\n",
       "</g>\n",
       "<!-- 0&#45;&gt;8 -->\n",
       "<g id=\"edge8\" class=\"edge\">\n",
       "<title>0&#45;&gt;8</title>\n",
       "<path fill=\"none\" stroke=\"black\" d=\"M641.47,-341.91C654.38,-332.29 668.25,-321.95 681.48,-312.09\"/>\n",
       "<polygon fill=\"black\" stroke=\"black\" points=\"683.7,-314.8 689.63,-306.02 679.52,-309.19 683.7,-314.8\"/>\n",
       "<text text-anchor=\"middle\" x=\"686.01\" y=\"-327.06\" font-family=\"Helvetica,sans-Serif\" font-size=\"14.00\">False</text>\n",
       "</g>\n",
       "<!-- 2 -->\n",
       "<g id=\"node3\" class=\"node\">\n",
       "<title>2</title>\n",
       "<path fill=\"#e99457\" stroke=\"black\" d=\"M277,-187C277,-187 161,-187 161,-187 155,-187 149,-181 149,-175 149,-175 149,-116 149,-116 149,-110 155,-104 161,-104 161,-104 277,-104 277,-104 283,-104 289,-110 289,-116 289,-116 289,-175 289,-175 289,-181 283,-187 277,-187\"/>\n",
       "<text text-anchor=\"middle\" x=\"219\" y=\"-171.8\" font-family=\"Helvetica,sans-Serif\" font-size=\"14.00\">isMinor &lt;= 0.5</text>\n",
       "<text text-anchor=\"middle\" x=\"219\" y=\"-156.8\" font-family=\"Helvetica,sans-Serif\" font-size=\"14.00\">gini = 0.226</text>\n",
       "<text text-anchor=\"middle\" x=\"219\" y=\"-141.8\" font-family=\"Helvetica,sans-Serif\" font-size=\"14.00\">samples = 415</text>\n",
       "<text text-anchor=\"middle\" x=\"219\" y=\"-126.8\" font-family=\"Helvetica,sans-Serif\" font-size=\"14.00\">value = [361, 54]</text>\n",
       "<text text-anchor=\"middle\" x=\"219\" y=\"-111.8\" font-family=\"Helvetica,sans-Serif\" font-size=\"14.00\">class = 0</text>\n",
       "</g>\n",
       "<!-- 1&#45;&gt;2 -->\n",
       "<g id=\"edge2\" class=\"edge\">\n",
       "<title>1&#45;&gt;2</title>\n",
       "<path fill=\"none\" stroke=\"black\" d=\"M370.37,-224.87C347.33,-212.94 321.87,-199.76 298.52,-187.67\"/>\n",
       "<polygon fill=\"black\" stroke=\"black\" points=\"299.83,-184.4 289.34,-182.91 296.61,-190.62 299.83,-184.4\"/>\n",
       "</g>\n",
       "<!-- 5 -->\n",
       "<g id=\"node6\" class=\"node\">\n",
       "<title>5</title>\n",
       "<path fill=\"#f2c29f\" stroke=\"black\" d=\"M516.5,-187C516.5,-187 373.5,-187 373.5,-187 367.5,-187 361.5,-181 361.5,-175 361.5,-175 361.5,-116 361.5,-116 361.5,-110 367.5,-104 373.5,-104 373.5,-104 516.5,-104 516.5,-104 522.5,-104 528.5,-110 528.5,-116 528.5,-116 528.5,-175 528.5,-175 528.5,-181 522.5,-187 516.5,-187\"/>\n",
       "<text text-anchor=\"middle\" x=\"445\" y=\"-171.8\" font-family=\"Helvetica,sans-Serif\" font-size=\"14.00\">Fare &lt;= 26.469</text>\n",
       "<text text-anchor=\"middle\" x=\"445\" y=\"-156.8\" font-family=\"Helvetica,sans-Serif\" font-size=\"14.00\">gini = 0.448</text>\n",
       "<text text-anchor=\"middle\" x=\"445\" y=\"-141.8\" font-family=\"Helvetica,sans-Serif\" font-size=\"14.00\">samples = 162</text>\n",
       "<text text-anchor=\"middle\" x=\"445\" y=\"-126.8\" font-family=\"Helvetica,sans-Serif\" font-size=\"14.00\">value = [107.0, 55.0]</text>\n",
       "<text text-anchor=\"middle\" x=\"445\" y=\"-111.8\" font-family=\"Helvetica,sans-Serif\" font-size=\"14.00\">class = 0</text>\n",
       "</g>\n",
       "<!-- 1&#45;&gt;5 -->\n",
       "<g id=\"edge5\" class=\"edge\">\n",
       "<title>1&#45;&gt;5</title>\n",
       "<path fill=\"none\" stroke=\"black\" d=\"M445,-222.91C445,-214.65 445,-205.86 445,-197.3\"/>\n",
       "<polygon fill=\"black\" stroke=\"black\" points=\"448.5,-197.02 445,-187.02 441.5,-197.02 448.5,-197.02\"/>\n",
       "</g>\n",
       "<!-- 3 -->\n",
       "<g id=\"node4\" class=\"node\">\n",
       "<title>3</title>\n",
       "<path fill=\"#e88f50\" stroke=\"black\" d=\"M128,-68C128,-68 12,-68 12,-68 6,-68 0,-62 0,-56 0,-56 0,-12 0,-12 0,-6 6,0 12,0 12,0 128,0 128,0 134,0 140,-6 140,-12 140,-12 140,-56 140,-56 140,-62 134,-68 128,-68\"/>\n",
       "<text text-anchor=\"middle\" x=\"70\" y=\"-52.8\" font-family=\"Helvetica,sans-Serif\" font-size=\"14.00\">gini = 0.184</text>\n",
       "<text text-anchor=\"middle\" x=\"70\" y=\"-37.8\" font-family=\"Helvetica,sans-Serif\" font-size=\"14.00\">samples = 399</text>\n",
       "<text text-anchor=\"middle\" x=\"70\" y=\"-22.8\" font-family=\"Helvetica,sans-Serif\" font-size=\"14.00\">value = [358, 41]</text>\n",
       "<text text-anchor=\"middle\" x=\"70\" y=\"-7.8\" font-family=\"Helvetica,sans-Serif\" font-size=\"14.00\">class = 0</text>\n",
       "</g>\n",
       "<!-- 2&#45;&gt;3 -->\n",
       "<g id=\"edge3\" class=\"edge\">\n",
       "<title>2&#45;&gt;3</title>\n",
       "<path fill=\"none\" stroke=\"black\" d=\"M163.52,-103.73C150.49,-94.15 136.62,-83.96 123.67,-74.44\"/>\n",
       "<polygon fill=\"black\" stroke=\"black\" points=\"125.44,-71.4 115.31,-68.3 121.3,-77.04 125.44,-71.4\"/>\n",
       "</g>\n",
       "<!-- 4 -->\n",
       "<g id=\"node5\" class=\"node\">\n",
       "<title>4</title>\n",
       "<path fill=\"#67b4eb\" stroke=\"black\" d=\"M268,-68C268,-68 170,-68 170,-68 164,-68 158,-62 158,-56 158,-56 158,-12 158,-12 158,-6 164,0 170,0 170,0 268,0 268,0 274,0 280,-6 280,-12 280,-12 280,-56 280,-56 280,-62 274,-68 268,-68\"/>\n",
       "<text text-anchor=\"middle\" x=\"219\" y=\"-52.8\" font-family=\"Helvetica,sans-Serif\" font-size=\"14.00\">gini = 0.305</text>\n",
       "<text text-anchor=\"middle\" x=\"219\" y=\"-37.8\" font-family=\"Helvetica,sans-Serif\" font-size=\"14.00\">samples = 16</text>\n",
       "<text text-anchor=\"middle\" x=\"219\" y=\"-22.8\" font-family=\"Helvetica,sans-Serif\" font-size=\"14.00\">value = [3, 13]</text>\n",
       "<text text-anchor=\"middle\" x=\"219\" y=\"-7.8\" font-family=\"Helvetica,sans-Serif\" font-size=\"14.00\">class = 1</text>\n",
       "</g>\n",
       "<!-- 2&#45;&gt;4 -->\n",
       "<g id=\"edge4\" class=\"edge\">\n",
       "<title>2&#45;&gt;4</title>\n",
       "<path fill=\"none\" stroke=\"black\" d=\"M219,-103.73C219,-95.52 219,-86.86 219,-78.56\"/>\n",
       "<polygon fill=\"black\" stroke=\"black\" points=\"222.5,-78.3 219,-68.3 215.5,-78.3 222.5,-78.3\"/>\n",
       "</g>\n",
       "<!-- 6 -->\n",
       "<g id=\"node7\" class=\"node\">\n",
       "<title>6</title>\n",
       "<path fill=\"#399de5\" stroke=\"black\" d=\"M399.5,-68C399.5,-68 310.5,-68 310.5,-68 304.5,-68 298.5,-62 298.5,-56 298.5,-56 298.5,-12 298.5,-12 298.5,-6 304.5,0 310.5,0 310.5,0 399.5,0 399.5,0 405.5,0 411.5,-6 411.5,-12 411.5,-12 411.5,-56 411.5,-56 411.5,-62 405.5,-68 399.5,-68\"/>\n",
       "<text text-anchor=\"middle\" x=\"355\" y=\"-52.8\" font-family=\"Helvetica,sans-Serif\" font-size=\"14.00\">gini = 0.0</text>\n",
       "<text text-anchor=\"middle\" x=\"355\" y=\"-37.8\" font-family=\"Helvetica,sans-Serif\" font-size=\"14.00\">samples = 4</text>\n",
       "<text text-anchor=\"middle\" x=\"355\" y=\"-22.8\" font-family=\"Helvetica,sans-Serif\" font-size=\"14.00\">value = [0, 4]</text>\n",
       "<text text-anchor=\"middle\" x=\"355\" y=\"-7.8\" font-family=\"Helvetica,sans-Serif\" font-size=\"14.00\">class = 1</text>\n",
       "</g>\n",
       "<!-- 5&#45;&gt;6 -->\n",
       "<g id=\"edge6\" class=\"edge\">\n",
       "<title>5&#45;&gt;6</title>\n",
       "<path fill=\"none\" stroke=\"black\" d=\"M411.49,-103.73C404.07,-94.7 396.2,-85.12 388.77,-76.08\"/>\n",
       "<polygon fill=\"black\" stroke=\"black\" points=\"391.42,-73.8 382.37,-68.3 386.02,-78.25 391.42,-73.8\"/>\n",
       "</g>\n",
       "<!-- 7 -->\n",
       "<g id=\"node8\" class=\"node\">\n",
       "<title>7</title>\n",
       "<path fill=\"#f1bd97\" stroke=\"black\" d=\"M584.5,-68C584.5,-68 441.5,-68 441.5,-68 435.5,-68 429.5,-62 429.5,-56 429.5,-56 429.5,-12 429.5,-12 429.5,-6 435.5,0 441.5,0 441.5,0 584.5,0 584.5,0 590.5,0 596.5,-6 596.5,-12 596.5,-12 596.5,-56 596.5,-56 596.5,-62 590.5,-68 584.5,-68\"/>\n",
       "<text text-anchor=\"middle\" x=\"513\" y=\"-52.8\" font-family=\"Helvetica,sans-Serif\" font-size=\"14.00\">gini = 0.437</text>\n",
       "<text text-anchor=\"middle\" x=\"513\" y=\"-37.8\" font-family=\"Helvetica,sans-Serif\" font-size=\"14.00\">samples = 158</text>\n",
       "<text text-anchor=\"middle\" x=\"513\" y=\"-22.8\" font-family=\"Helvetica,sans-Serif\" font-size=\"14.00\">value = [107.0, 51.0]</text>\n",
       "<text text-anchor=\"middle\" x=\"513\" y=\"-7.8\" font-family=\"Helvetica,sans-Serif\" font-size=\"14.00\">class = 0</text>\n",
       "</g>\n",
       "<!-- 5&#45;&gt;7 -->\n",
       "<g id=\"edge7\" class=\"edge\">\n",
       "<title>5&#45;&gt;7</title>\n",
       "<path fill=\"none\" stroke=\"black\" d=\"M470.32,-103.73C475.76,-94.97 481.51,-85.7 486.98,-76.91\"/>\n",
       "<polygon fill=\"black\" stroke=\"black\" points=\"490.02,-78.64 492.32,-68.3 484.07,-74.95 490.02,-78.64\"/>\n",
       "</g>\n",
       "<!-- 9 -->\n",
       "<g id=\"node10\" class=\"node\">\n",
       "<title>9</title>\n",
       "<path fill=\"#44a2e6\" stroke=\"black\" d=\"M797.5,-187C797.5,-187 690.5,-187 690.5,-187 684.5,-187 678.5,-181 678.5,-175 678.5,-175 678.5,-116 678.5,-116 678.5,-110 684.5,-104 690.5,-104 690.5,-104 797.5,-104 797.5,-104 803.5,-104 809.5,-110 809.5,-116 809.5,-116 809.5,-175 809.5,-175 809.5,-181 803.5,-187 797.5,-187\"/>\n",
       "<text text-anchor=\"middle\" x=\"744\" y=\"-171.8\" font-family=\"Helvetica,sans-Serif\" font-size=\"14.00\">Fare &lt;= 28.856</text>\n",
       "<text text-anchor=\"middle\" x=\"744\" y=\"-156.8\" font-family=\"Helvetica,sans-Serif\" font-size=\"14.00\">gini = 0.1</text>\n",
       "<text text-anchor=\"middle\" x=\"744\" y=\"-141.8\" font-family=\"Helvetica,sans-Serif\" font-size=\"14.00\">samples = 170</text>\n",
       "<text text-anchor=\"middle\" x=\"744\" y=\"-126.8\" font-family=\"Helvetica,sans-Serif\" font-size=\"14.00\">value = [9, 161]</text>\n",
       "<text text-anchor=\"middle\" x=\"744\" y=\"-111.8\" font-family=\"Helvetica,sans-Serif\" font-size=\"14.00\">class = 1</text>\n",
       "</g>\n",
       "<!-- 8&#45;&gt;9 -->\n",
       "<g id=\"edge9\" class=\"edge\">\n",
       "<title>8&#45;&gt;9</title>\n",
       "<path fill=\"none\" stroke=\"black\" d=\"M744,-222.91C744,-214.65 744,-205.86 744,-197.3\"/>\n",
       "<polygon fill=\"black\" stroke=\"black\" points=\"747.5,-197.02 744,-187.02 740.5,-197.02 747.5,-197.02\"/>\n",
       "</g>\n",
       "<!-- 12 -->\n",
       "<g id=\"node13\" class=\"node\">\n",
       "<title>12</title>\n",
       "<path fill=\"#ffffff\" stroke=\"black\" d=\"M1014.5,-187C1014.5,-187 907.5,-187 907.5,-187 901.5,-187 895.5,-181 895.5,-175 895.5,-175 895.5,-116 895.5,-116 895.5,-110 901.5,-104 907.5,-104 907.5,-104 1014.5,-104 1014.5,-104 1020.5,-104 1026.5,-110 1026.5,-116 1026.5,-116 1026.5,-175 1026.5,-175 1026.5,-181 1020.5,-187 1014.5,-187\"/>\n",
       "<text text-anchor=\"middle\" x=\"961\" y=\"-171.8\" font-family=\"Helvetica,sans-Serif\" font-size=\"14.00\">Fare &lt;= 23.35</text>\n",
       "<text text-anchor=\"middle\" x=\"961\" y=\"-156.8\" font-family=\"Helvetica,sans-Serif\" font-size=\"14.00\">gini = 0.5</text>\n",
       "<text text-anchor=\"middle\" x=\"961\" y=\"-141.8\" font-family=\"Helvetica,sans-Serif\" font-size=\"14.00\">samples = 144</text>\n",
       "<text text-anchor=\"middle\" x=\"961\" y=\"-126.8\" font-family=\"Helvetica,sans-Serif\" font-size=\"14.00\">value = [72, 72]</text>\n",
       "<text text-anchor=\"middle\" x=\"961\" y=\"-111.8\" font-family=\"Helvetica,sans-Serif\" font-size=\"14.00\">class = 0</text>\n",
       "</g>\n",
       "<!-- 8&#45;&gt;12 -->\n",
       "<g id=\"edge12\" class=\"edge\">\n",
       "<title>8&#45;&gt;12</title>\n",
       "<path fill=\"none\" stroke=\"black\" d=\"M819.29,-222.91C841.02,-211.19 864.72,-198.41 886.41,-186.72\"/>\n",
       "<polygon fill=\"black\" stroke=\"black\" points=\"888.11,-189.78 895.25,-181.95 884.79,-183.62 888.11,-189.78\"/>\n",
       "</g>\n",
       "<!-- 10 -->\n",
       "<g id=\"node11\" class=\"node\">\n",
       "<title>10</title>\n",
       "<path fill=\"#4fa8e8\" stroke=\"black\" d=\"M725,-68C725,-68 627,-68 627,-68 621,-68 615,-62 615,-56 615,-56 615,-12 615,-12 615,-6 621,0 627,0 627,0 725,0 725,0 731,0 737,-6 737,-12 737,-12 737,-56 737,-56 737,-62 731,-68 725,-68\"/>\n",
       "<text text-anchor=\"middle\" x=\"676\" y=\"-52.8\" font-family=\"Helvetica,sans-Serif\" font-size=\"14.00\">gini = 0.18</text>\n",
       "<text text-anchor=\"middle\" x=\"676\" y=\"-37.8\" font-family=\"Helvetica,sans-Serif\" font-size=\"14.00\">samples = 70</text>\n",
       "<text text-anchor=\"middle\" x=\"676\" y=\"-22.8\" font-family=\"Helvetica,sans-Serif\" font-size=\"14.00\">value = [7, 63]</text>\n",
       "<text text-anchor=\"middle\" x=\"676\" y=\"-7.8\" font-family=\"Helvetica,sans-Serif\" font-size=\"14.00\">class = 1</text>\n",
       "</g>\n",
       "<!-- 9&#45;&gt;10 -->\n",
       "<g id=\"edge10\" class=\"edge\">\n",
       "<title>9&#45;&gt;10</title>\n",
       "<path fill=\"none\" stroke=\"black\" d=\"M718.68,-103.73C713.24,-94.97 707.49,-85.7 702.02,-76.91\"/>\n",
       "<polygon fill=\"black\" stroke=\"black\" points=\"704.93,-74.95 696.68,-68.3 698.98,-78.64 704.93,-74.95\"/>\n",
       "</g>\n",
       "<!-- 11 -->\n",
       "<g id=\"node12\" class=\"node\">\n",
       "<title>11</title>\n",
       "<path fill=\"#3d9fe6\" stroke=\"black\" d=\"M865,-68C865,-68 767,-68 767,-68 761,-68 755,-62 755,-56 755,-56 755,-12 755,-12 755,-6 761,0 767,0 767,0 865,0 865,0 871,0 877,-6 877,-12 877,-12 877,-56 877,-56 877,-62 871,-68 865,-68\"/>\n",
       "<text text-anchor=\"middle\" x=\"816\" y=\"-52.8\" font-family=\"Helvetica,sans-Serif\" font-size=\"14.00\">gini = 0.039</text>\n",
       "<text text-anchor=\"middle\" x=\"816\" y=\"-37.8\" font-family=\"Helvetica,sans-Serif\" font-size=\"14.00\">samples = 100</text>\n",
       "<text text-anchor=\"middle\" x=\"816\" y=\"-22.8\" font-family=\"Helvetica,sans-Serif\" font-size=\"14.00\">value = [2, 98]</text>\n",
       "<text text-anchor=\"middle\" x=\"816\" y=\"-7.8\" font-family=\"Helvetica,sans-Serif\" font-size=\"14.00\">class = 1</text>\n",
       "</g>\n",
       "<!-- 9&#45;&gt;11 -->\n",
       "<g id=\"edge11\" class=\"edge\">\n",
       "<title>9&#45;&gt;11</title>\n",
       "<path fill=\"none\" stroke=\"black\" d=\"M770.81,-103.73C776.57,-94.97 782.66,-85.7 788.45,-76.91\"/>\n",
       "<polygon fill=\"black\" stroke=\"black\" points=\"791.53,-78.58 794.1,-68.3 785.69,-74.73 791.53,-78.58\"/>\n",
       "</g>\n",
       "<!-- 13 -->\n",
       "<g id=\"node14\" class=\"node\">\n",
       "<title>13</title>\n",
       "<path fill=\"#c3e1f7\" stroke=\"black\" d=\"M1014.5,-68C1014.5,-68 907.5,-68 907.5,-68 901.5,-68 895.5,-62 895.5,-56 895.5,-56 895.5,-12 895.5,-12 895.5,-6 901.5,0 907.5,0 907.5,0 1014.5,0 1014.5,0 1020.5,0 1026.5,-6 1026.5,-12 1026.5,-12 1026.5,-56 1026.5,-56 1026.5,-62 1020.5,-68 1014.5,-68\"/>\n",
       "<text text-anchor=\"middle\" x=\"961\" y=\"-52.8\" font-family=\"Helvetica,sans-Serif\" font-size=\"14.00\">gini = 0.484</text>\n",
       "<text text-anchor=\"middle\" x=\"961\" y=\"-37.8\" font-family=\"Helvetica,sans-Serif\" font-size=\"14.00\">samples = 117</text>\n",
       "<text text-anchor=\"middle\" x=\"961\" y=\"-22.8\" font-family=\"Helvetica,sans-Serif\" font-size=\"14.00\">value = [48, 69]</text>\n",
       "<text text-anchor=\"middle\" x=\"961\" y=\"-7.8\" font-family=\"Helvetica,sans-Serif\" font-size=\"14.00\">class = 1</text>\n",
       "</g>\n",
       "<!-- 12&#45;&gt;13 -->\n",
       "<g id=\"edge13\" class=\"edge\">\n",
       "<title>12&#45;&gt;13</title>\n",
       "<path fill=\"none\" stroke=\"black\" d=\"M961,-103.73C961,-95.52 961,-86.86 961,-78.56\"/>\n",
       "<polygon fill=\"black\" stroke=\"black\" points=\"964.5,-78.3 961,-68.3 957.5,-78.3 964.5,-78.3\"/>\n",
       "</g>\n",
       "<!-- 14 -->\n",
       "<g id=\"node15\" class=\"node\">\n",
       "<title>14</title>\n",
       "<path fill=\"#e89152\" stroke=\"black\" d=\"M1155,-68C1155,-68 1057,-68 1057,-68 1051,-68 1045,-62 1045,-56 1045,-56 1045,-12 1045,-12 1045,-6 1051,0 1057,0 1057,0 1155,0 1155,0 1161,0 1167,-6 1167,-12 1167,-12 1167,-56 1167,-56 1167,-62 1161,-68 1155,-68\"/>\n",
       "<text text-anchor=\"middle\" x=\"1106\" y=\"-52.8\" font-family=\"Helvetica,sans-Serif\" font-size=\"14.00\">gini = 0.198</text>\n",
       "<text text-anchor=\"middle\" x=\"1106\" y=\"-37.8\" font-family=\"Helvetica,sans-Serif\" font-size=\"14.00\">samples = 27</text>\n",
       "<text text-anchor=\"middle\" x=\"1106\" y=\"-22.8\" font-family=\"Helvetica,sans-Serif\" font-size=\"14.00\">value = [24, 3]</text>\n",
       "<text text-anchor=\"middle\" x=\"1106\" y=\"-7.8\" font-family=\"Helvetica,sans-Serif\" font-size=\"14.00\">class = 0</text>\n",
       "</g>\n",
       "<!-- 12&#45;&gt;14 -->\n",
       "<g id=\"edge14\" class=\"edge\">\n",
       "<title>12&#45;&gt;14</title>\n",
       "<path fill=\"none\" stroke=\"black\" d=\"M1014.99,-103.73C1027.67,-94.15 1041.17,-83.96 1053.77,-74.44\"/>\n",
       "<polygon fill=\"black\" stroke=\"black\" points=\"1056.03,-77.12 1061.9,-68.3 1051.82,-71.53 1056.03,-77.12\"/>\n",
       "</g>\n",
       "</g>\n",
       "</svg>\n"
      ],
      "text/plain": [
       "<graphviz.sources.Source at 0x7f5d7eac0610>"
      ]
     },
     "execution_count": 21,
     "metadata": {},
     "output_type": "execute_result"
    }
   ],
   "source": [
    "from sklearn.datasets import load_iris\n",
    "from sklearn.tree import DecisionTreeClassifier\n",
    "from sklearn.tree import export_graphviz\n",
    "from graphviz import Source\n",
    "\n",
    "\n",
    "# iris = load_iris(as_frame=True)\n",
    "features = [\"Fare\", \"Pclass\", \"isFemale\", \"isTravellingAlone\", \"isMinor\"]\n",
    "\n",
    "\n",
    "X_titanic = train_df[features]\n",
    "# convert categorcial values to numeric\n",
    "X_titanic = pd.get_dummies(X_titanic)\n",
    "\n",
    "dummy_features = list(X_titanic.columns)\n",
    "X_titanic = X_titanic.values\n",
    "y_titanic = train_df[\"Survived\"]\n",
    "\n",
    "\n",
    "\n",
    "tree_clf = DecisionTreeClassifier(max_depth=3, random_state=1)\n",
    "tree_clf.fit(X_titanic, y_titanic)\n",
    "\n",
    "export_graphviz(\n",
    "        tree_clf,\n",
    "        out_file=str(f\"{OUTPUT_DIR}/titanic_tree.dot\"),\n",
    "        feature_names=dummy_features,\n",
    "        class_names=[\"0\",\"1\"],\n",
    "        rounded=True,\n",
    "        filled=True\n",
    "    )\n",
    "\n",
    "Source.from_file(f\"{OUTPUT_DIR}/titanic_tree.dot\") "
   ]
  },
  {
   "cell_type": "code",
   "execution_count": null,
   "metadata": {},
   "outputs": [],
   "source": []
  },
  {
   "cell_type": "code",
   "execution_count": 22,
   "metadata": {},
   "outputs": [
    {
     "name": "stdout",
     "output_type": "stream",
     "text": [
      "Your submission was successfully saved!\n"
     ]
    }
   ],
   "source": [
    "# predict values\n",
    "# test_df = test_df[features]\n",
    "# X_titanic = train_df[features]\n",
    "# # convert categorcial values to numeric\n",
    "# X_titanic = pd.get_dummies(X_titanic)\n",
    "# dummy_features = list(X_titanic.columns)\n",
    "# # features = X_titanic.feature_names\n",
    "# X_titanic = X_titanic.values\n",
    "# y_titanic = train_df[\"Survived\"]\n",
    "\n",
    "X_titanic_test = test_df[features]\n",
    "X_titanic_test = pd.get_dummies(X_titanic_test)\n",
    "dumm_features = list(X_titanic_test.columns)\n",
    "X_titanic_test = X_titanic_test.values\n",
    "X_titanic_test\n",
    "Y_titanic_predictions = tree_clf.predict(X_titanic_test)\n",
    "output = pd.DataFrame({'PassengerId': test_df.PassengerId, 'Survived': Y_titanic_predictions})\n",
    "# output.to_csv('submission.csv', index=False)\n",
    "print(\"Your submission was successfully saved!\")"
   ]
  },
  {
   "cell_type": "markdown",
   "metadata": {},
   "source": [
    "## Classification using Random forests"
   ]
  },
  {
   "cell_type": "code",
   "execution_count": 23,
   "metadata": {},
   "outputs": [
    {
     "name": "stdout",
     "output_type": "stream",
     "text": [
      "Your submission was successfully saved!\n"
     ]
    }
   ],
   "source": [
    "from sklearn.ensemble import RandomForestClassifier\n",
    "\n",
    "y = train_df[\"Survived\"]\n",
    "\n",
    "features = [\"Fare\", \"Pclass\", \"isFemale\", \"isTravellingAlone\", \"isMinor\"]\n",
    "# Convert categorical variable into dummy/indicator variables.\n",
    "X = pd.get_dummies(train_df[features])\n",
    "X_test = pd.get_dummies(test_df[features])\n",
    "\n",
    "model = RandomForestClassifier(n_estimators=100, max_depth=5, random_state=120)\n",
    "model.fit(X, y)\n",
    "predictions = model.predict(X_test)\n",
    "\n",
    "output = pd.DataFrame({'PassengerId': test_df.PassengerId, 'Survived': predictions})\n",
    "# output.to_csv('submission.csv', index=False)\n",
    "print(\"Your submission was successfully saved!\")"
   ]
  },
  {
   "cell_type": "markdown",
   "metadata": {},
   "source": [
    "# References\n",
    "1. [Skewness](https://en.wikipedia.org/wiki/Skewness)\n",
    "2. [Pandas reference](https://pandas.pydata.org/pandas-docs/stable/reference/)\n",
    "3. [Kernel density estimation](https://seaborn.pydata.org/tutorial/distributions.html#tutorial-kde)"
   ]
  }
 ],
 "metadata": {
  "kaggle": {
   "accelerator": "none",
   "dataSources": [
    {
     "databundleVersionId": 26502,
     "sourceId": 3136,
     "sourceType": "competition"
    }
   ],
   "dockerImageVersionId": 30646,
   "isGpuEnabled": false,
   "isInternetEnabled": true,
   "language": "python",
   "sourceType": "notebook"
  },
  "kernelspec": {
   "display_name": "Python 3 (ipykernel)",
   "language": "python",
   "name": "python3"
  },
  "language_info": {
   "codemirror_mode": {
    "name": "ipython",
    "version": 3
   },
   "file_extension": ".py",
   "mimetype": "text/x-python",
   "name": "python",
   "nbconvert_exporter": "python",
   "pygments_lexer": "ipython3",
   "version": "3.11.3"
  }
 },
 "nbformat": 4,
 "nbformat_minor": 4
}
